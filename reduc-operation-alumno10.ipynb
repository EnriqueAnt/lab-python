{
 "cells": [
  {
   "cell_type": "markdown",
   "id": "f942d288-be01-42cd-9b84-83529c6769be",
   "metadata": {},
   "source": [
    "### Reduction operation: the sum of the numbers in the range [0, a)"
   ]
  },
  {
   "cell_type": "code",
   "execution_count": 1,
   "id": "496946fa-2a28-4c1d-8a6a-2ee0b8fd8ced",
   "metadata": {},
   "outputs": [
    {
     "name": "stdout",
     "output_type": "stream",
     "text": [
      "Time taken by reduction operation: 0.2663397789001465 seconds\n",
      "257 ms ± 2.6 ms per loop (mean ± std. dev. of 2 runs, 1 loop each)\n",
      "\n",
      " \t Computing the sum of numbers in the range [0, value): 499999500000\n",
      "\n"
     ]
    }
   ],
   "source": [
    "import time\n",
    "\n",
    "def reduc_operation(a):\n",
    "    \"\"\"Compute the sum of the numbers in the range [0, a).\"\"\"\n",
    "    x = 0\n",
    "    for i in range(a):\n",
    "        x += i\n",
    "    return x\n",
    "\n",
    "# Secuencial\n",
    "\n",
    "value = 1000000\n",
    "\n",
    "initialTime = time.time()\n",
    "suma = reduc_operation(value)\n",
    "finalTime = time.time()\n",
    "\n",
    "print(\"Time taken by reduction operation:\", (finalTime - initialTime), \"seconds\")\n",
    "\n",
    "# Utilizando las operaciones mágicas de ipython\n",
    "%timeit -r 2 reduc_operation(value)\n",
    "\n",
    "print(f\"\\n \\t Computing the sum of numbers in the range [0, value): {suma}\\n\")"
   ]
  },
  {
   "cell_type": "code",
   "execution_count": 1,
   "id": "83d98ef6-7f70-4565-a7c2-ad2bf3614636",
   "metadata": {},
   "outputs": [
    {
     "name": "stdout",
     "output_type": "stream",
     "text": [
      "Time taken by reduction operation: 0.23157072067260742 seconds\n",
      "Time taken by sum() operation: 0.03262734413146973 seconds\n",
      "\n",
      "Timing with %timeit:\n",
      "219 ms ± 2.11 ms per loop (mean ± std. dev. of 2 runs, 1,000 loops each)\n",
      "30.5 ms ± 283 µs per loop (mean ± std. dev. of 2 runs, 10 loops each)\n",
      "\n",
      "\tComputing the sum of numbers in the range [0, 1000000]: 499999500000\n",
      "\n"
     ]
    }
   ],
   "source": [
    "# 3.2 a)\n",
    "import time\n",
    "\n",
    "# Crear una lista de Python con 10^6 elementos (1,000,000)\n",
    "my_list = list(range(1000000))\n",
    "\n",
    "# Opción 1: Sumar con un bucle for\n",
    "def for_loop_sum():\n",
    "    total = 0\n",
    "    for num in my_list:\n",
    "        total += num\n",
    "    return total\n",
    "\n",
    "# Medición del tiempo para el bucle for\n",
    "initialTime = time.time()\n",
    "total_for = for_loop_sum()\n",
    "finalTime = time.time()\n",
    "print(\"Time taken by reduction operation:\", (finalTime - initialTime), \"seconds\")\n",
    "\n",
    "# Opción 2: Sumar usando la función sum()\n",
    "def sum_function():\n",
    "    return sum(my_list)\n",
    "\n",
    "# Medición del tiempo para sum()\n",
    "initialTime = time.time()\n",
    "total_sum = sum_function()\n",
    "finalTime = time.time()\n",
    "print(\"Time taken by sum() operation:\", (finalTime - initialTime), \"seconds\")\n",
    "\n",
    "# Medición con %timeit\n",
    "print(\"\\nTiming with %timeit:\")\n",
    "\n",
    "# Medición con %timeit para el bucle for\n",
    "%timeit -r 2 -n 1000 for_loop_sum()\n",
    "\n",
    "# Medición con %timeit para la función sum()\n",
    "%timeit -r 2 sum_function()\n",
    "\n",
    "# Mostrar el resultado de la suma\n",
    "print(f\"\\n\\tComputing the sum of numbers in the range [0, 1000000]: {total_sum}\\n\")\n",
    "import time\n",
    "\n",
    "# Crear una lista de Python con 10^6 elementos\n",
    "my_list = list(range(1000000))\n",
    "\n",
    "# Opción 1: Sumar con un bucle for\n",
    "def for_loop_sum():\n",
    "    total = 0\n",
    "    for num in my_list:\n",
    "        total += num\n",
    "    return total\n",
    "\n",
    "# Opción 2: Sumar usando sum() de Python\n",
    "def sum_function():\n",
    "    return sum(my_list)\n",
    "\n",
    "# Medición con time.time() para el bucle for\n",
    "initialTime = time.time()\n",
    "total_for = for_loop_sum()\n",
    "finalTime = time.time()\n",
    "print(\"Time taken by reduction operation (for loop):\", (finalTime - initialTime), \"seconds\")\n",
    "\n",
    "# Medición con time.time() para sum()\n",
    "initialTime = time.time()\n",
    "total_sum = sum_function()\n",
    "finalTime = time.time()\n",
    "print(\"Time taken by sum() operation:\", (finalTime - initialTime), \"seconds\")\n",
    "\n",
    "# Utilizando las operaciones mágicas de ipython\n",
    "print(\"\\nTiming with %timeit:\")\n",
    "\n",
    "# Medición con %timeit para el bucle for\n",
    "%timeit -r 2 -n 1000 for_loop_sum()\n",
    "\n",
    "# Medición con %timeit para la función sum()\n",
    "%timeit -r 2 sum_function()\n",
    "\n",
    "# Mostrar el resultado de las sumas de todas las maneras posibles\n",
    "print(f\"\\n\\tComputing the sum of numbers in the range [0, 1000000]:\")\n",
    "print(f\"\\tSum using for loop: {total_for}\")\n",
    "print(f\"\\tSum using sum(): {total_sum}\")"
   ]
  },
  {
   "cell_type": "code",
   "execution_count": 3,
   "id": "1c35a695-0eb0-4c2f-8757-ab9942c1ab9c",
   "metadata": {},
   "outputs": [
    {
     "name": "stdout",
     "output_type": "stream",
     "text": [
      "Time taken by reduction operation with array: 0.6622755527496338 seconds\n",
      "Time taken by np.sum() operation with array: 0.0020012855529785156 seconds\n",
      "\n",
      "Timing with %timeit:\n",
      "648 ms ± 6.19 ms per loop (mean ± std. dev. of 2 runs, 1,000 loops each)\n",
      "1.43 ms ± 234 ns per loop (mean ± std. dev. of 2 runs, 1,000 loops each)\n"
     ]
    }
   ],
   "source": [
    "#3.2 b)\n",
    "import time\n",
    "import numpy as np\n",
    "\n",
    "# Convertir la lista a un array de NumPy\n",
    "my_array = np.array(my_list)\n",
    "\n",
    "# Opción 1: Sumar con un bucle for\n",
    "def for_loop_sum_array():\n",
    "    total = 0\n",
    "    for num in my_array:\n",
    "        total += num\n",
    "    return total\n",
    "\n",
    "# Medición con time.time() para el bucle for\n",
    "initialTime = time.time()\n",
    "total_array_for = for_loop_sum_array()\n",
    "finalTime = time.time()\n",
    "print(\"Time taken by reduction operation with array:\", (finalTime - initialTime), \"seconds\")\n",
    "\n",
    "# Opción 2: Sumar usando np.sum() de NumPy\n",
    "def sum_function_array():\n",
    "    return np.sum(my_array)\n",
    "\n",
    "# Medición con time.time() para np.sum()\n",
    "initialTime = time.time()\n",
    "total_array_sum = sum_function_array()\n",
    "finalTime = time.time()\n",
    "print(\"Time taken by np.sum() operation with array:\", (finalTime - initialTime), \"seconds\")\n",
    "\n",
    "# Medición con %timeit\n",
    "print(\"\\nTiming with %timeit:\")\n",
    "\n",
    "# Medición con %timeit para el bucle for\n",
    "%timeit -r 2 -n 1000 for_loop_sum_array()\n",
    "\n",
    "# Medición con %timeit para la función np.sum()\n",
    "%timeit -r 2 sum_function_array()\n"
   ]
  },
  {
   "cell_type": "markdown",
   "id": "56943242-7217-463f-ab70-a005e4fc1117",
   "metadata": {},
   "source": [
    "Los resultados muestran que el bucle for es el enfoque más lento para realizar la suma, lo que refleja la sobrecarga de Python al manejar operaciones repetitivas de manera explícita. Aunque este método es directo, su rendimiento es limitado cuando se trabaja con grandes cantidades de datos, ya que la iteración manual no está optimizada. Por otro lado, la función sum() de Python mejora considerablemente el tiempo de ejecución gracias a su implementación optimizada en C, permitiendo una suma mucho más rápida de los elementos de la lista. Finalmente, np.sum() de NumPy ofrece un rendimiento similar al de sum(), pero su verdadera ventaja radica en su capacidad para manejar arrays más grandes y multidimensionales de forma más eficiente, aprovechando las optimizaciones propias de NumPy. Esto demuestra que usar funciones nativas optimizadas o bibliotecas especializadas como NumPy puede acelerar significativamente el procesamiento en comparación con enfoques más simples como los bucles for."
   ]
  }
 ],
 "metadata": {
  "kernelspec": {
   "display_name": "Python 3 (ipykernel)",
   "language": "python",
   "name": "python3"
  },
  "language_info": {
   "codemirror_mode": {
    "name": "ipython",
    "version": 3
   },
   "file_extension": ".py",
   "mimetype": "text/x-python",
   "name": "python",
   "nbconvert_exporter": "python",
   "pygments_lexer": "ipython3",
   "version": "3.10.9"
  }
 },
 "nbformat": 4,
 "nbformat_minor": 5
}
